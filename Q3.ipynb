{
 "cells": [
  {
   "cell_type": "code",
   "execution_count": 1,
   "metadata": {},
   "outputs": [],
   "source": [
    "import math"
   ]
  },
  {
   "cell_type": "code",
   "execution_count": 9,
   "metadata": {},
   "outputs": [
    {
     "name": "stdout",
     "output_type": "stream",
     "text": [
      "enter the radius of circle:9\n",
      "enter the angle of the segment:60\n",
      "segment area is: 42.411500823462205\n"
     ]
    }
   ],
   "source": [
    "r=float(input(\"enter the radius of circle:\"))\n",
    "angle=float(input(\"enter the angle of the segment:\"))\n",
    "if angle>=360:\n",
    "    print(\"segment is not possible\")\n",
    "else:\n",
    "    area=(math.pi*r**2)*(angle/360)\n",
    "    print(\"segment area is:\",area)"
   ]
  },
  {
   "cell_type": "code",
   "execution_count": null,
   "metadata": {},
   "outputs": [],
   "source": []
  }
 ],
 "metadata": {
  "kernelspec": {
   "display_name": "Python 3",
   "language": "python",
   "name": "python3"
  },
  "language_info": {
   "codemirror_mode": {
    "name": "ipython",
    "version": 3
   },
   "file_extension": ".py",
   "mimetype": "text/x-python",
   "name": "python",
   "nbconvert_exporter": "python",
   "pygments_lexer": "ipython3",
   "version": "3.7.6"
  }
 },
 "nbformat": 4,
 "nbformat_minor": 4
}
