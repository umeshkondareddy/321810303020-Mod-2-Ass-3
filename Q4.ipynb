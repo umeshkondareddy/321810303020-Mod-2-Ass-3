{
 "cells": [
  {
   "cell_type": "code",
   "execution_count": 1,
   "metadata": {},
   "outputs": [],
   "source": [
    "import random"
   ]
  },
  {
   "cell_type": "code",
   "execution_count": 8,
   "metadata": {},
   "outputs": [
    {
     "name": "stdout",
     "output_type": "stream",
     "text": [
      "the original list is:[100, 1, 2, 3, 30, 40, 'hai', 'hello']\n",
      "the shuffled list is:['hai', 2, 100, 40, 3, 'hello', 30, 1]\n"
     ]
    }
   ],
   "source": [
    "list=[100,1,2,3,30,40,\"hai\",\"hello\"]\n",
    "print(\"the original list is:\"+str(list))\n",
    "random.shuffle(list)\n",
    "print(\"the shuffled list is:\"+str(list))"
   ]
  },
  {
   "cell_type": "code",
   "execution_count": null,
   "metadata": {},
   "outputs": [],
   "source": []
  }
 ],
 "metadata": {
  "kernelspec": {
   "display_name": "Python 3",
   "language": "python",
   "name": "python3"
  },
  "language_info": {
   "codemirror_mode": {
    "name": "ipython",
    "version": 3
   },
   "file_extension": ".py",
   "mimetype": "text/x-python",
   "name": "python",
   "nbconvert_exporter": "python",
   "pygments_lexer": "ipython3",
   "version": "3.7.6"
  }
 },
 "nbformat": 4,
 "nbformat_minor": 4
}
